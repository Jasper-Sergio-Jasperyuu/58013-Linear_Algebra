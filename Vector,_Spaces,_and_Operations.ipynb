{
  "nbformat": 4,
  "nbformat_minor": 0,
  "metadata": {
    "colab": {
      "provenance": [],
      "toc_visible": true,
      "authorship_tag": "ABX9TyOEXVicnMFmtW7rCQHEyPEw",
      "include_colab_link": true
    },
    "kernelspec": {
      "name": "python3",
      "display_name": "Python 3"
    },
    "language_info": {
      "name": "python"
    }
  },
  "cells": [
    {
      "cell_type": "markdown",
      "metadata": {
        "id": "view-in-github",
        "colab_type": "text"
      },
      "source": [
        "<a href=\"https://colab.research.google.com/github/Jasper-Sergio-Jasperyuu/58013-Linear_Algebra/blob/main/Vector%2C_Spaces%2C_and_Operations.ipynb\" target=\"_parent\"><img src=\"https://colab.research.google.com/assets/colab-badge.svg\" alt=\"Open In Colab\"/></a>"
      ]
    },
    {
      "cell_type": "markdown",
      "source": [
        "Vector"
      ],
      "metadata": {
        "id": "GW3UKUy-g6Z3"
      }
    },
    {
      "cell_type": "code",
      "execution_count": 1,
      "metadata": {
        "colab": {
          "base_uri": "https://localhost:8080/"
        },
        "id": "SABWE26xbqX0",
        "outputId": "4437f393-3586-4b36-d630-2051c44192ff"
      },
      "outputs": [
        {
          "output_type": "stream",
          "name": "stdout",
          "text": [
            "Vector A is [4 3]\n",
            "Vector B is [ 2 -5]\n"
          ]
        }
      ],
      "source": [
        "import numpy as np\n",
        "A = np.array([4, 3])\n",
        "B = np.array([2, -5])\n",
        "\n",
        "print('Vector A is', A)\n",
        "print('Vector B is', B)"
      ]
    },
    {
      "cell_type": "markdown",
      "source": [
        "Shape of the matrix"
      ],
      "metadata": {
        "id": "jRzSWUGfjCM1"
      }
    },
    {
      "cell_type": "code",
      "source": [
        "#Checking Shapes\n",
        "#Shapes tells us how many rows and columns are there\n",
        "ball1 = np.array([[1], [2], [3]])\n",
        "print(f\"Column Vector: {ball1}\")\n",
        "ball1 = np.array([1, 2, 3])\n",
        "print(ball1)\n",
        "ball2 = np.array([0, 1, -1])\n",
        "print(ball2)\n",
        "b1 = np.shape(ball1) + np.shape(ball2)\n",
        "print(b1)\n",
        "x = np.ndim(ball1)\n",
        "y = np.ndim(ball2)\n",
        "print(x)\n",
        "print(y)"
      ],
      "metadata": {
        "colab": {
          "base_uri": "https://localhost:8080/"
        },
        "id": "01P6PcLYjEOO",
        "outputId": "385cf068-3605-471f-dd29-6205c56f0e00"
      },
      "execution_count": 27,
      "outputs": [
        {
          "output_type": "stream",
          "name": "stdout",
          "text": [
            "Column: [[1]\n",
            " [2]\n",
            " [3]]\n",
            "[1 2 3]\n",
            "[ 0  1 -1]\n",
            "(3, 3)\n",
            "1\n",
            "1\n"
          ]
        }
      ]
    },
    {
      "cell_type": "markdown",
      "source": [
        "Spaces"
      ],
      "metadata": {
        "id": "Ac-GXN4HikL_"
      }
    },
    {
      "cell_type": "code",
      "source": [
        "#Addition\n",
        "A = np.array([4, 3])\n",
        "B = np.array([2,-5])\n",
        "R = np.add(A, B)\n",
        "print(R)"
      ],
      "metadata": {
        "colab": {
          "base_uri": "https://localhost:8080/"
        },
        "id": "7DXpZNdCsLjv",
        "outputId": "f8884ed6-fe57-476d-fcd7-39749e2d3163"
      },
      "execution_count": 44,
      "outputs": [
        {
          "output_type": "stream",
          "name": "stdout",
          "text": [
            "[ 6 -2]\n"
          ]
        }
      ]
    },
    {
      "cell_type": "code",
      "source": [
        "#Subtraction\n",
        "\n",
        "R1 = np.subtract(A, B)\n",
        "print(R1)"
      ],
      "metadata": {
        "colab": {
          "base_uri": "https://localhost:8080/"
        },
        "id": "m4IFaF4ptz1k",
        "outputId": "260a8072-de0a-4bce-a3ab-86d215dc7312"
      },
      "execution_count": 38,
      "outputs": [
        {
          "output_type": "stream",
          "name": "stdout",
          "text": [
            "[2 8]\n"
          ]
        }
      ]
    },
    {
      "cell_type": "code",
      "source": [
        "#Scalar Product\n",
        "S = np.array([2])\n",
        "V = A*S\n",
        "print(V)"
      ],
      "metadata": {
        "colab": {
          "base_uri": "https://localhost:8080/"
        },
        "id": "fOpXUDISudr8",
        "outputId": "53aab2ad-4487-41a5-b839-162d81be9e27"
      },
      "execution_count": 39,
      "outputs": [
        {
          "output_type": "stream",
          "name": "stdout",
          "text": [
            "[8 6]\n"
          ]
        }
      ]
    },
    {
      "cell_type": "code",
      "source": [
        "#Multiply\n",
        "B = B.reshape(2, 1)\n",
        "c1 = np.multiply(A, B)\n",
        "print(np.multiply(A, B))"
      ],
      "metadata": {
        "colab": {
          "base_uri": "https://localhost:8080/"
        },
        "id": "zk5e-eEzvHdT",
        "outputId": "c564eaaf-8702-4992-acf3-b7a96b7023b8"
      },
      "execution_count": 71,
      "outputs": [
        {
          "output_type": "stream",
          "name": "stdout",
          "text": [
            "[[  8   6]\n",
            " [-20 -15]]\n"
          ]
        }
      ]
    },
    {
      "cell_type": "code",
      "source": [
        "#Property of Matrix\n",
        "#Identity Matrix\n",
        "c = np.eye(2, 2) #np.eye(dimension)\n",
        "print(c)\n",
        "#Zero Matrix\n",
        "d = np.zeros([4,4]) #np.zeros([dimension])\n",
        "print(d)\n",
        "#Full Matrix\n",
        "e = np.full((3, 3), 7)\n",
        "print(e)\n",
        "#Transpose of Matrix\n",
        "print(np.transpose(c1))"
      ],
      "metadata": {
        "colab": {
          "base_uri": "https://localhost:8080/"
        },
        "id": "YOq5-CXcy8Pv",
        "outputId": "af9db72b-33bf-40d8-f919-c97c32fdc229"
      },
      "execution_count": 72,
      "outputs": [
        {
          "output_type": "stream",
          "name": "stdout",
          "text": [
            "[[1. 0.]\n",
            " [0. 1.]]\n",
            "[[0. 0. 0. 0.]\n",
            " [0. 0. 0. 0.]\n",
            " [0. 0. 0. 0.]\n",
            " [0. 0. 0. 0.]]\n",
            "[[7 7 7]\n",
            " [7 7 7]\n",
            " [7 7 7]]\n",
            "[[  8 -20]\n",
            " [  6 -15]]\n"
          ]
        }
      ]
    },
    {
      "cell_type": "code",
      "source": [],
      "metadata": {
        "id": "NsNgdMVIy-Xv"
      },
      "execution_count": null,
      "outputs": []
    }
  ]
}