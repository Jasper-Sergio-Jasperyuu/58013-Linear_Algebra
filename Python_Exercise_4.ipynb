{
  "nbformat": 4,
  "nbformat_minor": 0,
  "metadata": {
    "colab": {
      "provenance": [],
      "authorship_tag": "ABX9TyNof+nY+8u2HAE9L4vjdia5",
      "include_colab_link": true
    },
    "kernelspec": {
      "name": "python3",
      "display_name": "Python 3"
    },
    "language_info": {
      "name": "python"
    }
  },
  "cells": [
    {
      "cell_type": "markdown",
      "metadata": {
        "id": "view-in-github",
        "colab_type": "text"
      },
      "source": [
        "<a href=\"https://colab.research.google.com/github/Jasper-Sergio-Jasperyuu/58013-Linear_Algebra/blob/main/Python_Exercise_4.ipynb\" target=\"_parent\"><img src=\"https://colab.research.google.com/assets/colab-badge.svg\" alt=\"Open In Colab\"/></a>"
      ]
    },
    {
      "cell_type": "markdown",
      "source": [
        "Coding Activity 4"
      ],
      "metadata": {
        "id": "beOyFoP4TaXR"
      }
    },
    {
      "cell_type": "code",
      "execution_count": 23,
      "metadata": {
        "colab": {
          "base_uri": "https://localhost:8080/"
        },
        "id": "avwwx21VTIEl",
        "outputId": "c536885c-9291-4fc7-c13a-fc6eff8f7767"
      },
      "outputs": [
        {
          "output_type": "stream",
          "name": "stdout",
          "text": [
            "A=\n",
            " [[-0.4]\n",
            " [ 4.3]\n",
            " [-0.6]] \n",
            "B=\n",
            " [-0.2  0.2  1. ] \n",
            "C=\n",
            " [-0.2  2.1 -1.5]\n",
            "Addition of Array = \n",
            "[[-0.8  1.9 -0.9]\n",
            " [ 3.9  6.6  3.8]\n",
            " [-1.   1.7 -1.1]]\n",
            " Subraction of Array = \n",
            "[[ 0.  -2.7  0.1]\n",
            " [ 4.7  2.   4.8]\n",
            " [-0.2 -2.9 -0.1]]\n",
            " Multiplication of Array = \n",
            "[[-0.016 -0.168  0.6  ]\n",
            " [ 0.172  1.806 -6.45 ]\n",
            " [-0.024 -0.252  0.9  ]]\n",
            " Division of Array = \n",
            "[[-10.     -0.952   0.267]\n",
            " [107.5    10.238  -2.867]\n",
            " [-15.     -1.429   0.4  ]]\n"
          ]
        }
      ],
      "source": [
        "import numpy as np\n",
        "\n",
        "A = np.array([[-0.4],\n",
        "              [4.3],\n",
        "              [-0.6]])\n",
        "B = np.array([-0.2, 0.2, 1])\n",
        "C = np.array([-0.2, 2.1, -1.5])\n",
        "print('A=\\n', A,\n",
        "      '\\nB=\\n', B,\n",
        "      '\\nC=\\n', C)\n",
        "\n",
        "add = np.add(A+B, C)\n",
        "minus = np.subtract(A-B, C)\n",
        "multiply = np.multiply(A*B, C)\n",
        "divide = np.divide(A/B, C)\n",
        "\n",
        "print(f\"Addition of Array = \\n{add}\\n\",\n",
        "      f\"Subraction of Array = \\n{minus}\\n\",\n",
        "      f\"Multiplication of Array = \\n{multiply}\\n\",\n",
        "      f\"Division of Array = \\n{np.around(divide, 3)}\") # rounds each element of the matrix to 3 decimal places"
      ]
    }
  ]
}