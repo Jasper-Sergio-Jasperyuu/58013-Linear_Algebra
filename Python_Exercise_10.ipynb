{
  "nbformat": 4,
  "nbformat_minor": 0,
  "metadata": {
    "colab": {
      "provenance": [],
      "authorship_tag": "ABX9TyNm+yYvrBRVn3UIwZQUxykN",
      "include_colab_link": true
    },
    "kernelspec": {
      "name": "python3",
      "display_name": "Python 3"
    },
    "language_info": {
      "name": "python"
    }
  },
  "cells": [
    {
      "cell_type": "markdown",
      "metadata": {
        "id": "view-in-github",
        "colab_type": "text"
      },
      "source": [
        "<a href=\"https://colab.research.google.com/github/Jasper-Sergio-Jasperyuu/58013-Linear_Algebra/blob/main/Python_Exercise_10.ipynb\" target=\"_parent\"><img src=\"https://colab.research.google.com/assets/colab-badge.svg\" alt=\"Open In Colab\"/></a>"
      ]
    },
    {
      "cell_type": "code",
      "execution_count": null,
      "metadata": {
        "colab": {
          "base_uri": "https://localhost:8080/"
        },
        "id": "fJ6LadTc-VmH",
        "outputId": "fe189f19-a447-40c2-e557-938cda006cb4"
      },
      "outputs": [
        {
          "output_type": "stream",
          "name": "stdout",
          "text": [
            "[[ 1.  1.  1.]\n",
            " [ 3. -2. -1.]\n",
            " [-1.  4.  2.]]\n",
            "(3, 3)\n",
            "[[ 1.]\n",
            " [ 4.]\n",
            " [-3.]]\n",
            "(3, 1)\n"
          ]
        }
      ],
      "source": [
        "import numpy as np\n",
        "X = np.array([\n",
        "    [1,1,1],\n",
        "    [3,-2,-1],\n",
        "    [-1,4,2]\n",
        "], dtype=float)\n",
        "Y = np.array([\n",
        "    [1],\n",
        "    [4],\n",
        "    [-3]\n",
        "],dtype=float)\n",
        "print(X)\n",
        "print(X.shape)\n",
        "print(Y)\n",
        "print(Y.shape)"
      ]
    },
    {
      "cell_type": "markdown",
      "source": [
        "Coding activity 10\n"
      ],
      "metadata": {
        "id": "uZ6PuVT0_KrM"
      }
    },
    {
      "cell_type": "code",
      "source": [
        "#x is flour, y is yeast, z is eggs\n",
        "# 30x +10y +120z = 12500\n",
        "# 40x + 20y + 200z = 18000\n",
        "# 50x + 40y + 360z = 25700\n",
        "\n",
        "A = np.array([[30,10,120],[40,20,200],[50,40,360]])\n",
        "A1 = np.array([[12500, 10, 120],[18000, 20, 200], [25700, 40, 360]])\n",
        "A2 = np.array([[30,12500,120],[40,18000,200],[50,25700,360]])\n",
        "A3 = np.array([[30,10,12500],[40,20,18000],[50,40,25700]])\n",
        "\n",
        "a = round(np.linalg.det(A))\n",
        "a1 = round(np.linalg.det(A1))\n",
        "a2 = round(np.linalg.det(A2))\n",
        "a3 = round(np.linalg.det(A3))\n",
        "\n",
        "x = np.divide(a1,a)\n",
        "y = np.divide(a2,a)\n",
        "z = np.divide(a3,a)\n",
        "print(round(x))\n",
        "print(round(y))\n",
        "print(round(z))"
      ],
      "metadata": {
        "colab": {
          "base_uri": "https://localhost:8080/"
        },
        "id": "sVZNpC0C_Pj0",
        "outputId": "0c76531b-4e20-4205-c29a-951e3313d7b6"
      },
      "execution_count": null,
      "outputs": [
        {
          "output_type": "stream",
          "name": "stdout",
          "text": [
            "330\n",
            "140\n",
            "10\n"
          ]
        }
      ]
    }
  ]
}