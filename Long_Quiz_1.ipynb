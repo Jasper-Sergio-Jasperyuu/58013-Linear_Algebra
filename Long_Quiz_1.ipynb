{
  "nbformat": 4,
  "nbformat_minor": 0,
  "metadata": {
    "colab": {
      "provenance": [],
      "authorship_tag": "ABX9TyMHaZYSRHfjgb20Ffa5KwYI",
      "include_colab_link": true
    },
    "kernelspec": {
      "name": "python3",
      "display_name": "Python 3"
    },
    "language_info": {
      "name": "python"
    }
  },
  "cells": [
    {
      "cell_type": "markdown",
      "metadata": {
        "id": "view-in-github",
        "colab_type": "text"
      },
      "source": [
        "<a href=\"https://colab.research.google.com/github/Jasper-Sergio-Jasperyuu/58013-Linear_Algebra/blob/main/Long_Quiz_1.ipynb\" target=\"_parent\"><img src=\"https://colab.research.google.com/assets/colab-badge.svg\" alt=\"Open In Colab\"/></a>"
      ]
    },
    {
      "cell_type": "markdown",
      "source": [
        "Problem 1"
      ],
      "metadata": {
        "id": "DkV8qp5JjeF_"
      }
    },
    {
      "cell_type": "code",
      "execution_count": 25,
      "metadata": {
        "colab": {
          "base_uri": "https://localhost:8080/"
        },
        "id": "_vV7l3qQf64q",
        "outputId": "58e97dcd-cb3d-4c79-c28c-0efccce777b1"
      },
      "outputs": [
        {
          "output_type": "stream",
          "name": "stdout",
          "text": [
            "a:\n",
            " [[22 28]\n",
            " [49 64]]\n",
            "b:\n",
            " [[2 4]\n",
            " [6 8]]\n",
            "or:\n",
            " [[2 4]\n",
            " [6 8]]\n",
            "c: \n",
            " [[ 1  4  9]\n",
            " [16 25 36]\n",
            " [49 64 81]]\n"
          ]
        }
      ],
      "source": [
        "import numpy as np\n",
        "A = np.array([[1, 2, 3], [4, 5, 6]])\n",
        "B = np.array([[1, 2], [3, 4], [5, 6]])\n",
        "C = np.array([[1, 2 ,3], [4, 5, 6], [7, 8, 9]])\n",
        "D = np.array([[1, 2], [3, 4]])\n",
        "\n",
        "#a.)\n",
        "a1 = np.dot(A, B)\n",
        "print(\"a:\\n\", a1)\n",
        "\n",
        "#b.)\n",
        "b1 = D + D\n",
        "b2 = np.add(D, D)\n",
        "print(\"b:\\n\", b1)\n",
        "print(\"or:\\n\", b2)\n",
        "\n",
        "#c.)\n",
        "c1 = np.multiply(C, C)\n",
        "print(\"c: \\n\", c1)"
      ]
    },
    {
      "cell_type": "markdown",
      "source": [
        "Problem 2"
      ],
      "metadata": {
        "id": "QjdEbw6Xjfgx"
      }
    },
    {
      "cell_type": "code",
      "source": [
        "A = np.array([2, 7, 4])\n",
        "B = np.array([3, 9, 8])\n",
        "\n",
        "print(\"Problem 2:\\n\", np.cross(A, B))"
      ],
      "metadata": {
        "colab": {
          "base_uri": "https://localhost:8080/"
        },
        "id": "WIvMq57KgPsO",
        "outputId": "268c8e2a-efb6-43ab-d42f-ead4cbe8d038"
      },
      "execution_count": 27,
      "outputs": [
        {
          "output_type": "stream",
          "name": "stdout",
          "text": [
            "Problem 2:\n",
            " [20 -4 -3]\n"
          ]
        }
      ]
    }
  ]
}