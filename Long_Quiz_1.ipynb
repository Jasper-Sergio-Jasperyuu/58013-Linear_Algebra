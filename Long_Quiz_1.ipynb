{
  "nbformat": 4,
  "nbformat_minor": 0,
  "metadata": {
    "colab": {
      "provenance": [],
      "authorship_tag": "ABX9TyPR1brtSy0mtClLuyLTeVrL",
      "include_colab_link": true
    },
    "kernelspec": {
      "name": "python3",
      "display_name": "Python 3"
    },
    "language_info": {
      "name": "python"
    }
  },
  "cells": [
    {
      "cell_type": "markdown",
      "metadata": {
        "id": "view-in-github",
        "colab_type": "text"
      },
      "source": [
        "<a href=\"https://colab.research.google.com/github/Jasper-Sergio-Jasperyuu/58013-Linear_Algebra/blob/main/Long_Quiz_1.ipynb\" target=\"_parent\"><img src=\"https://colab.research.google.com/assets/colab-badge.svg\" alt=\"Open In Colab\"/></a>"
      ]
    },
    {
      "cell_type": "markdown",
      "source": [
        "Problem 1"
      ],
      "metadata": {
        "id": "DkV8qp5JjeF_"
      }
    },
    {
      "cell_type": "code",
      "execution_count": 28,
      "metadata": {
        "colab": {
          "base_uri": "https://localhost:8080/"
        },
        "id": "_vV7l3qQf64q",
        "outputId": "90fde3e0-94cd-4298-b30d-b6f971b62a55"
      },
      "outputs": [
        {
          "output_type": "stream",
          "name": "stdout",
          "text": [
            "a:\n",
            " [[22 28]\n",
            " [49 64]]\n",
            "b:\n",
            " [[2 4]\n",
            " [6 8]]\n",
            "or:\n",
            " [[2 4]\n",
            " [6 8]]\n",
            "c: \n",
            " [[ 2  4  6]\n",
            " [ 8 10 12]\n",
            " [14 16 18]]\n"
          ]
        }
      ],
      "source": [
        "import numpy as np\n",
        "A = np.array([[1, 2, 3], [4, 5, 6]])\n",
        "B = np.array([[1, 2], [3, 4], [5, 6]])\n",
        "C = np.array([[1, 2 ,3], [4, 5, 6], [7, 8, 9]])\n",
        "D = np.array([[1, 2], [3, 4]])\n",
        "\n",
        "#a.)\n",
        "a1 = np.dot(A, B)\n",
        "print(\"a:\\n\", a1)\n",
        "\n",
        "#b.)\n",
        "b1 = D + D\n",
        "b2 = np.add(D, D)\n",
        "print(\"b:\\n\", b1)\n",
        "print(\"or:\\n\", b2)\n",
        "\n",
        "#c.)\n",
        "c1 = np.multiply(2, C)\n",
        "print(\"c: \\n\", c1)"
      ]
    },
    {
      "cell_type": "markdown",
      "source": [
        "Problem 2"
      ],
      "metadata": {
        "id": "QjdEbw6Xjfgx"
      }
    },
    {
      "cell_type": "code",
      "source": [
        "A = np.array([2, 7, 4])\n",
        "B = np.array([3, 9, 8])\n",
        "#i, j, k\n",
        "#cross = jk - kj, ki - ik, ij - ji\n",
        "cross = [(A[1]*B[2])-(A[2]*B[1]), (A[2]*B[0])-(A[0]*B[2]), (A[0]*B[1])-(A[1]*B[0])]\n",
        "#print(\"Problem 2:\\n\", np.cross(A, B)) # for verification\n",
        "cross"
      ],
      "metadata": {
        "colab": {
          "base_uri": "https://localhost:8080/"
        },
        "id": "WIvMq57KgPsO",
        "outputId": "268c8e2a-efb6-43ab-d42f-ead4cbe8d038"
      },
      "execution_count": 27,
      "outputs": [
        {
          "output_type": "stream",
          "name": "stdout",
          "text": [
            "Problem 2:\n",
            " [20 -4 -3]\n"
          ]
        }
      ]
    }
  ]
}