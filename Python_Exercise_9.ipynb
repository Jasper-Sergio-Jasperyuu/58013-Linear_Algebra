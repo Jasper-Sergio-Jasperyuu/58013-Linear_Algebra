{
  "nbformat": 4,
  "nbformat_minor": 0,
  "metadata": {
    "colab": {
      "provenance": [],
      "authorship_tag": "ABX9TyMTZKOQXvsjyeH4H2EwJkWC",
      "include_colab_link": true
    },
    "kernelspec": {
      "name": "python3",
      "display_name": "Python 3"
    },
    "language_info": {
      "name": "python"
    }
  },
  "cells": [
    {
      "cell_type": "markdown",
      "metadata": {
        "id": "view-in-github",
        "colab_type": "text"
      },
      "source": [
        "<a href=\"https://colab.research.google.com/github/Jasper-Sergio-Jasperyuu/58013-Linear_Algebra/blob/main/Python_Exercise_9.ipynb\" target=\"_parent\"><img src=\"https://colab.research.google.com/assets/colab-badge.svg\" alt=\"Open In Colab\"/></a>"
      ]
    },
    {
      "cell_type": "code",
      "execution_count": 2,
      "metadata": {
        "id": "6wBBjs9F1I49"
      },
      "outputs": [],
      "source": [
        "import numpy as np\n",
        "import matplotlib.pyplot as plt\n",
        "%matplotlib inline"
      ]
    },
    {
      "cell_type": "code",
      "source": [
        "A = np.array([\n",
        "    [1,4],\n",
        "    [0,3]\n",
        "])\n",
        "round(np.linalg.det(A))"
      ],
      "metadata": {
        "colab": {
          "base_uri": "https://localhost:8080/"
        },
        "id": "TAfJWQwm3a8J",
        "outputId": "481c98c7-c982-4811-f4fb-0779a7936fc2"
      },
      "execution_count": null,
      "outputs": [
        {
          "output_type": "execute_result",
          "data": {
            "text/plain": [
              "3"
            ]
          },
          "metadata": {},
          "execution_count": 7
        }
      ]
    },
    {
      "cell_type": "code",
      "source": [
        "B = np.array([\n",
        "    [1,3,5,6],\n",
        "    [0,3,1,3],\n",
        "    [3,1,8,2],\n",
        "    [5,2,6,8]\n",
        "])\n",
        "round(np.linalg.det(B))"
      ],
      "metadata": {
        "colab": {
          "base_uri": "https://localhost:8080/"
        },
        "id": "YncMVLCs3jZB",
        "outputId": "7fa5dbce-ac8f-43b2-9baa-c7a5f84388c8"
      },
      "execution_count": null,
      "outputs": [
        {
          "output_type": "execute_result",
          "data": {
            "text/plain": [
              "-235"
            ]
          },
          "metadata": {},
          "execution_count": 9
        }
      ]
    },
    {
      "cell_type": "markdown",
      "source": [
        "Activity"
      ],
      "metadata": {
        "id": "wY9dnPvRChKR"
      }
    },
    {
      "cell_type": "code",
      "source": [
        "#Associative Property\n",
        "print('Associative Property= (AB)C = A(BC)')\n",
        "A = np.array([[1,2,3],[1,2,3],[1,2,3]])\n",
        "B = np.array([[4,5,6],[4,5,6],[4,5,6]])\n",
        "C = np.array([[7,8,9],[7,8,9],[7,8,9]])\n",
        "print(\"A =\",A,\"\\nB =\", B,\"\\nC =\", C)\n",
        "AB = np.dot(A,B)\n",
        "BC = np.dot(B,C)\n",
        "print(\"(AB)C = \", np.dot(AB,C))\n",
        "print(\"A(BC) = \", np.dot(A,BC))\n",
        "print(np.equal(np.dot(AB,C), np.dot(A,BC)))"
      ],
      "metadata": {
        "colab": {
          "base_uri": "https://localhost:8080/"
        },
        "id": "Toaq5S9VCihZ",
        "outputId": "4cdf9922-359e-446a-b76a-5e88c93786a5"
      },
      "execution_count": 15,
      "outputs": [
        {
          "output_type": "stream",
          "name": "stdout",
          "text": [
            "Associative Property= (AB)C = A(BC)\n",
            "A = [[1 2 3]\n",
            " [1 2 3]\n",
            " [1 2 3]] \n",
            "B = [[4 5 6]\n",
            " [4 5 6]\n",
            " [4 5 6]] \n",
            "C = [[7 8 9]\n",
            " [7 8 9]\n",
            " [7 8 9]]\n",
            "(AB)C =  [[630 720 810]\n",
            " [630 720 810]\n",
            " [630 720 810]]\n",
            "A(BC) =  [[630 720 810]\n",
            " [630 720 810]\n",
            " [630 720 810]]\n",
            "[[ True  True  True]\n",
            " [ True  True  True]\n",
            " [ True  True  True]]\n"
          ]
        }
      ]
    },
    {
      "cell_type": "code",
      "source": [
        "#Distributive Property\n",
        "print('Distributive= A(B+C) = AB + AC')\n",
        "A = np.array([[1,2,3],[1,2,3],[1,2,3]])\n",
        "B = np.array([[4,5,6],[4,5,6],[4,5,6]])\n",
        "C = np.array([[7,8,9],[7,8,9],[7,8,9]])\n",
        "print(\"A =\",A,\"\\nB =\", B,\"\\nC =\", C)\n",
        "print(\"A(B+C)=\", np.dot(A, np.add(B,C)))\n",
        "print('AB + AC=', np.add(np.dot(A,B),np.dot(A,C)))\n",
        "print(np.equal(np.dot(A, np.add(B,C)), np.add(np.dot(A,B),np.dot(A,C))))"
      ],
      "metadata": {
        "colab": {
          "base_uri": "https://localhost:8080/"
        },
        "id": "IN-r-exsCnKw",
        "outputId": "ca6ad010-ac72-49d4-b37f-58f21350f163"
      },
      "execution_count": 16,
      "outputs": [
        {
          "output_type": "stream",
          "name": "stdout",
          "text": [
            "Distributive= A(B+C) = AB + AC\n",
            "A = [[1 2 3]\n",
            " [1 2 3]\n",
            " [1 2 3]] \n",
            "B = [[4 5 6]\n",
            " [4 5 6]\n",
            " [4 5 6]] \n",
            "C = [[7 8 9]\n",
            " [7 8 9]\n",
            " [7 8 9]]\n",
            "A(B+C)= [[66 78 90]\n",
            " [66 78 90]\n",
            " [66 78 90]]\n",
            "AB + AC= [[66 78 90]\n",
            " [66 78 90]\n",
            " [66 78 90]]\n",
            "[[ True  True  True]\n",
            " [ True  True  True]\n",
            " [ True  True  True]]\n"
          ]
        }
      ]
    },
    {
      "cell_type": "code",
      "source": [
        "#Closure Property or Scaling\n",
        "print('If array is multiplied to a constant c, the product shall be the elements*c')\n",
        "A = np.array([[1,2,3],[1,2,3],[1,2,3]])\n",
        "print('Array= ', A)\n",
        "print('A*3=',A*3)\n"
      ],
      "metadata": {
        "colab": {
          "base_uri": "https://localhost:8080/"
        },
        "id": "UAVKT3KwGEc-",
        "outputId": "29667337-e0a8-48e0-8552-e276b6988651"
      },
      "execution_count": null,
      "outputs": [
        {
          "output_type": "stream",
          "name": "stdout",
          "text": [
            "If array is multiplied to a constant c, the product shall be the elements*c\n",
            "Array=  [[1 2 3]\n",
            " [1 2 3]\n",
            " [1 2 3]]\n",
            "A*3= [[3 6 9]\n",
            " [3 6 9]\n",
            " [3 6 9]]\n"
          ]
        }
      ]
    },
    {
      "cell_type": "code",
      "source": [
        "#Identity Property\n",
        "print('Any matrix multiplied to identity matrix remains the same')\n",
        "A = np.array([[1,2,3],[1,2,3],[1,2,3]])\n",
        "print(\"A = \\n\", A)\n",
        "print(\"A*Identity = \\n\", np.dot(A, np.eye(3,3)))\n",
        "print(np.equal(np.dot(A, np.add(B,C)), np.add(np.dot(A,B),np.dot(A,C))))"
      ],
      "metadata": {
        "id": "P9L_il-0IL17",
        "colab": {
          "base_uri": "https://localhost:8080/"
        },
        "outputId": "2b6b0b4c-0a08-4b65-ecd8-15bdb0998cbf"
      },
      "execution_count": 17,
      "outputs": [
        {
          "output_type": "stream",
          "name": "stdout",
          "text": [
            "Any matrix multiplied to identity matrix remains the same\n",
            "A = \n",
            " [[1 2 3]\n",
            " [1 2 3]\n",
            " [1 2 3]]\n",
            "A*Identity = \n",
            " [[1. 2. 3.]\n",
            " [1. 2. 3.]\n",
            " [1. 2. 3.]]\n",
            "[[ True  True  True]\n",
            " [ True  True  True]\n",
            " [ True  True  True]]\n"
          ]
        }
      ]
    },
    {
      "cell_type": "code",
      "source": [
        "#Zero Property\n",
        "print('Any matrix multiplied by a zero matrix is equal to zero')\n",
        "A = np.array([[1,2,3],[1,2,3],[1,2,3]])\n",
        "print(\"A = \\n\", A)\n",
        "print(\"A*zero = \\n\", np.dot(A, np.zeros([3,3])), '\\nor\\n', A*0)"
      ],
      "metadata": {
        "colab": {
          "base_uri": "https://localhost:8080/"
        },
        "id": "PhQ0upbyQZ-H",
        "outputId": "4bd861ec-987c-42dd-a1e1-7b458a2cb7b4"
      },
      "execution_count": 8,
      "outputs": [
        {
          "output_type": "stream",
          "name": "stdout",
          "text": [
            "Any matrix multiplied by a zero matrix is equal to zero\n",
            "A = \n",
            " [[1 2 3]\n",
            " [1 2 3]\n",
            " [1 2 3]]\n",
            "A*zero = \n",
            " [[0. 0. 0.]\n",
            " [0. 0. 0.]\n",
            " [0. 0. 0.]] \n",
            "or\n",
            " [[0 0 0]\n",
            " [0 0 0]\n",
            " [0 0 0]]\n"
          ]
        }
      ]
    },
    {
      "cell_type": "code",
      "source": [
        "#Commutative Property\n",
        "print(\"AB != BA\")\n",
        "A = np.array([[1,2,3],[4,5,3],[1,7,2]])\n",
        "print(\"A=\\n\",A)\n",
        "B = np.array([[4,5,6],[6,4,-1],[3,5,2]])\n",
        "print(\"B=\\n\",B)\n",
        "print('AB=\\n', np.dot(A,B))\n",
        "print('BA=\\n', np.dot(B,A))\n",
        "print(np.equal( np.dot(B,A), np.dot(A,B) ))"
      ],
      "metadata": {
        "colab": {
          "base_uri": "https://localhost:8080/"
        },
        "id": "3Bzfrk14Rxo_",
        "outputId": "9e28f809-9cb8-4ad6-c94a-2fb8f43ab5d9"
      },
      "execution_count": 18,
      "outputs": [
        {
          "output_type": "stream",
          "name": "stdout",
          "text": [
            "AB != BA\n",
            "A=\n",
            " [[1 2 3]\n",
            " [4 5 3]\n",
            " [1 7 2]]\n",
            "B=\n",
            " [[ 4  5  6]\n",
            " [ 6  4 -1]\n",
            " [ 3  5  2]]\n",
            "AB=\n",
            " [[25 28 10]\n",
            " [55 55 25]\n",
            " [52 43  3]]\n",
            "BA=\n",
            " [[30 75 39]\n",
            " [21 25 28]\n",
            " [25 45 28]]\n",
            "[[False False False]\n",
            " [False False False]\n",
            " [False False False]]\n"
          ]
        }
      ]
    }
  ]
}