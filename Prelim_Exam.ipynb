{
  "nbformat": 4,
  "nbformat_minor": 0,
  "metadata": {
    "colab": {
      "provenance": [],
      "authorship_tag": "ABX9TyMx65b3BX4ZaJZBr7eBTMm7",
      "include_colab_link": true
    },
    "kernelspec": {
      "name": "python3",
      "display_name": "Python 3"
    },
    "language_info": {
      "name": "python"
    }
  },
  "cells": [
    {
      "cell_type": "markdown",
      "metadata": {
        "id": "view-in-github",
        "colab_type": "text"
      },
      "source": [
        "<a href=\"https://colab.research.google.com/github/Jasper-Sergio-Jasperyuu/58013-Linear_Algebra/blob/main/Prelim_Exam.ipynb\" target=\"_parent\"><img src=\"https://colab.research.google.com/assets/colab-badge.svg\" alt=\"Open In Colab\"/></a>"
      ]
    },
    {
      "cell_type": "markdown",
      "source": [
        "Question 1"
      ],
      "metadata": {
        "id": "OZFKbNoFs79f"
      }
    },
    {
      "cell_type": "code",
      "execution_count": 1,
      "metadata": {
        "colab": {
          "base_uri": "https://localhost:8080/"
        },
        "id": "6G_GVR-XsvuY",
        "outputId": "2b51798e-10b9-4748-9809-2a95d55e3eb3"
      },
      "outputs": [
        {
          "output_type": "stream",
          "name": "stdout",
          "text": [
            "NUMBERS AND ITS MULTIPLICATION BY 10: \n",
            " [[  1   2   3   4   5   6   7   8   9  10]\n",
            " [ 10  20  30  40  50  60  70  80  90 100]]\n"
          ]
        }
      ],
      "source": [
        "import numpy as np\n",
        "A = np.array([[1, 2, 3, 4, 5, 6, 7, 8, 9, 10]])\n",
        "B = np.array([[A], [A*10]]) # Shows that A is multiplied by 10\n",
        "print(\"NUMBERS AND ITS MULTIPLICATION BY 10: \\n\", B.reshape(2,10))"
      ]
    },
    {
      "cell_type": "code",
      "source": [
        "import numpy as np\n",
        "A = np.array([[1, 2, 3, 4, 5, 6, 7, 8, 9, 10]])\n",
        "B = A.reshape(10, 1)\n",
        "C = np.multiply(A, B)\n",
        "C"
      ],
      "metadata": {
        "id": "EGxlSXA89ENa",
        "outputId": "15b929a8-9895-4273-9af6-2cce59095cc3",
        "colab": {
          "base_uri": "https://localhost:8080/"
        }
      },
      "execution_count": 2,
      "outputs": [
        {
          "output_type": "execute_result",
          "data": {
            "text/plain": [
              "array([[  1,   2,   3,   4,   5,   6,   7,   8,   9,  10],\n",
              "       [  2,   4,   6,   8,  10,  12,  14,  16,  18,  20],\n",
              "       [  3,   6,   9,  12,  15,  18,  21,  24,  27,  30],\n",
              "       [  4,   8,  12,  16,  20,  24,  28,  32,  36,  40],\n",
              "       [  5,  10,  15,  20,  25,  30,  35,  40,  45,  50],\n",
              "       [  6,  12,  18,  24,  30,  36,  42,  48,  54,  60],\n",
              "       [  7,  14,  21,  28,  35,  42,  49,  56,  63,  70],\n",
              "       [  8,  16,  24,  32,  40,  48,  56,  64,  72,  80],\n",
              "       [  9,  18,  27,  36,  45,  54,  63,  72,  81,  90],\n",
              "       [ 10,  20,  30,  40,  50,  60,  70,  80,  90, 100]])"
            ]
          },
          "metadata": {},
          "execution_count": 2
        }
      ]
    },
    {
      "cell_type": "markdown",
      "source": [
        "Question 2"
      ],
      "metadata": {
        "id": "SQC-zinyvlfn"
      }
    },
    {
      "cell_type": "code",
      "source": [
        "import numpy as np\n",
        "A = np.array([[1, 2, 3, 4, 5, 6, 7, 8, 9, 10]])\n",
        "B = np.array([[A], [A*10]])\n",
        "C = np.array([[B[0]], [B[0]*2], [B[1]], [B[1]*2]])\n",
        "C.reshape(4, 10)\n",
        "print(\"NUMBERS AND ITS MULTIPLICATION BY 2: \\n\", C[0], '\\n', C[1])\n",
        "print(\"Multiples of 10 and its doubles: \\n\", C[2], '\\n', C[3])"
      ],
      "metadata": {
        "colab": {
          "base_uri": "https://localhost:8080/"
        },
        "id": "0E2_gBBWvmvC",
        "outputId": "6ef2608a-33ee-4f4b-d463-eaa82d9b78ca"
      },
      "execution_count": null,
      "outputs": [
        {
          "output_type": "stream",
          "name": "stdout",
          "text": [
            "NUMBERS AND ITS MULTIPLICATION BY 2: \n",
            " [[[[ 1  2  3  4  5  6  7  8  9 10]]]] \n",
            " [[[[ 2  4  6  8 10 12 14 16 18 20]]]]\n",
            "Multiples of 10 and its doubles: \n",
            " [[[[ 10  20  30  40  50  60  70  80  90 100]]]] \n",
            " [[[[ 20  40  60  80 100 120 140 160 180 200]]]]\n"
          ]
        }
      ]
    },
    {
      "cell_type": "code",
      "source": [
        "import numpy as np\n",
        "A = np.array([[1, 2, 3, 4, 5, 6, 7, 8, 9, 10]])\n",
        "B = A.reshape(10, 1)\n",
        "C = np.multiply(A, B)\n",
        "C\n",
        "print(C*2)"
      ],
      "metadata": {
        "id": "QyKoqykA9RcD",
        "outputId": "b1de9441-e514-49c5-81e2-a9b5d4dcdb2e",
        "colab": {
          "base_uri": "https://localhost:8080/"
        }
      },
      "execution_count": 4,
      "outputs": [
        {
          "output_type": "stream",
          "name": "stdout",
          "text": [
            "[[  2   4   6   8  10  12  14  16  18  20]\n",
            " [  4   8  12  16  20  24  28  32  36  40]\n",
            " [  6  12  18  24  30  36  42  48  54  60]\n",
            " [  8  16  24  32  40  48  56  64  72  80]\n",
            " [ 10  20  30  40  50  60  70  80  90 100]\n",
            " [ 12  24  36  48  60  72  84  96 108 120]\n",
            " [ 14  28  42  56  70  84  98 112 126 140]\n",
            " [ 16  32  48  64  80  96 112 128 144 160]\n",
            " [ 18  36  54  72  90 108 126 144 162 180]\n",
            " [ 20  40  60  80 100 120 140 160 180 200]]\n"
          ]
        }
      ]
    },
    {
      "cell_type": "markdown",
      "source": [
        "Question 3"
      ],
      "metadata": {
        "id": "Jes6oo9dxnEZ"
      }
    },
    {
      "cell_type": "code",
      "source": [
        "Q3 = np.eye(4,4)\n",
        "Q3"
      ],
      "metadata": {
        "colab": {
          "base_uri": "https://localhost:8080/"
        },
        "id": "pZSk5f2bvxnJ",
        "outputId": "98f140e3-586d-4da3-e305-6071729ad83c"
      },
      "execution_count": null,
      "outputs": [
        {
          "output_type": "execute_result",
          "data": {
            "text/plain": [
              "array([[1., 0., 0., 0.],\n",
              "       [0., 1., 0., 0.],\n",
              "       [0., 0., 1., 0.],\n",
              "       [0., 0., 0., 1.]])"
            ]
          },
          "metadata": {},
          "execution_count": 5
        }
      ]
    },
    {
      "cell_type": "markdown",
      "source": [
        "Question 4"
      ],
      "metadata": {
        "id": "5BYUC5Tlx18V"
      }
    },
    {
      "cell_type": "code",
      "source": [
        "matrix = np.array([[1, 2, 3, 4],\n",
        "                   [5, 6, 7, 8],\n",
        "                   [9, 10, 11, 12]])\n",
        "print(\"Size of matrix: \", np.size(matrix))\n",
        "print(\"Shape of matrix:\", np.shape(matrix))\n",
        "print(\"Dimensions of matrix:\", np.ndim(matrix))"
      ],
      "metadata": {
        "colab": {
          "base_uri": "https://localhost:8080/"
        },
        "id": "uUep68TOx3Q9",
        "outputId": "691ac73c-3b75-44d0-a943-fe8b8ba8b366"
      },
      "execution_count": null,
      "outputs": [
        {
          "output_type": "stream",
          "name": "stdout",
          "text": [
            "Size of matrix:  12\n",
            "Shape of matrix: (3, 4)\n",
            "Dimensions of matrix: 2\n"
          ]
        }
      ]
    },
    {
      "cell_type": "markdown",
      "source": [
        "Question 5"
      ],
      "metadata": {
        "id": "US49yj4fy6Mf"
      }
    },
    {
      "cell_type": "code",
      "source": [
        "arrayOne = np.array([[5, 6, 9], [21, 18, 27]])\n",
        "arrayTwo = np.array([[15, 33, 24], [4, 7, 1]])\n",
        "\n",
        "array3 = np.add(arrayOne, arrayTwo)\n",
        "print(\"Sum:\\n\",array3)\n",
        "print(\"Sum as squared: \\n\", array3**2)\n"
      ],
      "metadata": {
        "colab": {
          "base_uri": "https://localhost:8080/"
        },
        "id": "OWPn1ijRzGB_",
        "outputId": "67574cc5-6374-4cef-88ef-5cf7acd0a1e0"
      },
      "execution_count": null,
      "outputs": [
        {
          "output_type": "stream",
          "name": "stdout",
          "text": [
            "Sum:\n",
            " [[20 39 33]\n",
            " [25 25 28]]\n",
            "Sum as squared: \n",
            " [[ 400 1521 1089]\n",
            " [ 625  625  784]]\n"
          ]
        }
      ]
    }
  ]
}