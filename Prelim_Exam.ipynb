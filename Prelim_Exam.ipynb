{
  "nbformat": 4,
  "nbformat_minor": 0,
  "metadata": {
    "colab": {
      "provenance": [],
      "authorship_tag": "ABX9TyP5f1dCocE0FqQ9E2IKy0RT",
      "include_colab_link": true
    },
    "kernelspec": {
      "name": "python3",
      "display_name": "Python 3"
    },
    "language_info": {
      "name": "python"
    }
  },
  "cells": [
    {
      "cell_type": "markdown",
      "metadata": {
        "id": "view-in-github",
        "colab_type": "text"
      },
      "source": [
        "<a href=\"https://colab.research.google.com/github/Jasper-Sergio-Jasperyuu/58013-Linear_Algebra/blob/main/Prelim_Exam.ipynb\" target=\"_parent\"><img src=\"https://colab.research.google.com/assets/colab-badge.svg\" alt=\"Open In Colab\"/></a>"
      ]
    },
    {
      "cell_type": "markdown",
      "source": [
        "Question 1"
      ],
      "metadata": {
        "id": "OZFKbNoFs79f"
      }
    },
    {
      "cell_type": "code",
      "execution_count": 2,
      "metadata": {
        "colab": {
          "base_uri": "https://localhost:8080/"
        },
        "id": "6G_GVR-XsvuY",
        "outputId": "45627cd2-48f2-4738-b155-0acbd890ad34"
      },
      "outputs": [
        {
          "output_type": "stream",
          "name": "stdout",
          "text": [
            "NUMBERS AND ITS MULTIPLICATION BY 10: \n",
            " [[  1   2   3   4   5   6   7   8   9  10]\n",
            " [ 10  20  30  40  50  60  70  80  90 100]]\n"
          ]
        }
      ],
      "source": [
        "import numpy as np\n",
        "A = np.array([[1, 2, 3, 4, 5, 6, 7, 8, 9, 10]])\n",
        "B = np.array([[A], [A*10]])\n",
        "print(\"NUMBERS AND ITS MULTIPLICATION BY 10: \\n\", B.reshape(2,10))"
      ]
    },
    {
      "cell_type": "markdown",
      "source": [
        "Question 2"
      ],
      "metadata": {
        "id": "SQC-zinyvlfn"
      }
    },
    {
      "cell_type": "code",
      "source": [
        "import numpy as np\n",
        "A = np.array([[1, 2, 3, 4, 5, 6, 7, 8, 9, 10]])\n",
        "B = np.array([[A], [A*10]])\n",
        "C = np.array([[B[0]], [B[0]*2], [B[1]], [B[1]*2]])\n",
        "C.reshape(4, 10)\n",
        "print(\"NUMBERS AND ITS MULTIPLICATION BY 2: \\n\", C[0], '\\n', C[1])\n",
        "print(\"Multiples of 10 and its doubles: \\n\", C[2], '\\n', C[3])"
      ],
      "metadata": {
        "colab": {
          "base_uri": "https://localhost:8080/"
        },
        "id": "0E2_gBBWvmvC",
        "outputId": "6ef2608a-33ee-4f4b-d463-eaa82d9b78ca"
      },
      "execution_count": 3,
      "outputs": [
        {
          "output_type": "stream",
          "name": "stdout",
          "text": [
            "NUMBERS AND ITS MULTIPLICATION BY 2: \n",
            " [[[[ 1  2  3  4  5  6  7  8  9 10]]]] \n",
            " [[[[ 2  4  6  8 10 12 14 16 18 20]]]]\n",
            "Multiples of 10 and its doubles: \n",
            " [[[[ 10  20  30  40  50  60  70  80  90 100]]]] \n",
            " [[[[ 20  40  60  80 100 120 140 160 180 200]]]]\n"
          ]
        }
      ]
    },
    {
      "cell_type": "markdown",
      "source": [
        "Question 3"
      ],
      "metadata": {
        "id": "Jes6oo9dxnEZ"
      }
    },
    {
      "cell_type": "code",
      "source": [
        "Q3 = np.eye(4,4)\n",
        "Q3"
      ],
      "metadata": {
        "colab": {
          "base_uri": "https://localhost:8080/"
        },
        "id": "pZSk5f2bvxnJ",
        "outputId": "98f140e3-586d-4da3-e305-6071729ad83c"
      },
      "execution_count": 5,
      "outputs": [
        {
          "output_type": "execute_result",
          "data": {
            "text/plain": [
              "array([[1., 0., 0., 0.],\n",
              "       [0., 1., 0., 0.],\n",
              "       [0., 0., 1., 0.],\n",
              "       [0., 0., 0., 1.]])"
            ]
          },
          "metadata": {},
          "execution_count": 5
        }
      ]
    },
    {
      "cell_type": "markdown",
      "source": [
        "Question 4"
      ],
      "metadata": {
        "id": "5BYUC5Tlx18V"
      }
    },
    {
      "cell_type": "code",
      "source": [
        "matrix = np.array([[1, 2, 3, 4],\n",
        "                   [5, 6, 7, 8],\n",
        "                   [9, 10, 11, 12]])\n",
        "print(\"Size of matrix: \", np.size(matrix))\n",
        "print(\"Shape of matrix:\", np.shape(matrix))\n",
        "print(\"Dimensions of matrix:\", np.ndim(matrix))"
      ],
      "metadata": {
        "colab": {
          "base_uri": "https://localhost:8080/"
        },
        "id": "uUep68TOx3Q9",
        "outputId": "691ac73c-3b75-44d0-a943-fe8b8ba8b366"
      },
      "execution_count": 9,
      "outputs": [
        {
          "output_type": "stream",
          "name": "stdout",
          "text": [
            "Size of matrix:  12\n",
            "Shape of matrix: (3, 4)\n",
            "Dimensions of matrix: 2\n"
          ]
        }
      ]
    },
    {
      "cell_type": "markdown",
      "source": [
        "Question 5"
      ],
      "metadata": {
        "id": "US49yj4fy6Mf"
      }
    },
    {
      "cell_type": "code",
      "source": [
        "arrayOne = np.array([[5, 6, 9], [21, 18, 27]])\n",
        "arrayTwo = np.array([[15, 33, 24], [4, 7, 1]])\n",
        "\n",
        "array3 = np.add(arrayOne, arrayTwo)\n",
        "print(\"Sum:\\n\",array3)\n",
        "print(\"Sum as squared: \\n\", array3**2)\n"
      ],
      "metadata": {
        "colab": {
          "base_uri": "https://localhost:8080/"
        },
        "id": "OWPn1ijRzGB_",
        "outputId": "67574cc5-6374-4cef-88ef-5cf7acd0a1e0"
      },
      "execution_count": 12,
      "outputs": [
        {
          "output_type": "stream",
          "name": "stdout",
          "text": [
            "Sum:\n",
            " [[20 39 33]\n",
            " [25 25 28]]\n",
            "Sum as squared: \n",
            " [[ 400 1521 1089]\n",
            " [ 625  625  784]]\n"
          ]
        }
      ]
    }
  ]
}